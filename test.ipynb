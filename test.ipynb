{
 "cells": [
  {
   "cell_type": "code",
   "execution_count": null,
   "id": "3652ee01",
   "metadata": {},
   "outputs": [
    {
     "name": "stdout",
     "output_type": "stream",
     "text": [
      "Hello from mcp-sentiment!\n"
     ]
    }
   ],
   "source": [
    "import gradio as gr\n",
    "import json\n",
    "from textblob import TextBlob\n",
    "\n",
    "def sentiment_analysis(text: str) -> str:\n",
    "    \"\"\"\n",
    "    Analyze the sentiment of the given text.\n",
    "\n",
    "    Args:\n",
    "        text (str): The input text to analyze.\n",
    "\n",
    "    Returns:\n",
    "        str: A json stirng containing polarity and subjectivity and assessment.\n",
    "    \"\"\"\n",
    "    \n",
    "    blob = TextBlob(text)\n",
    "    sentiment = blob.sentiment\n",
    "\n",
    "    result = {\"polarity\": round(sentiment.polarity,2), \"subjectivity\": round(sentiment.subjectivity,2) \"assessment\": \"positive\" if sentiment.polarity > 0 else \"negative\" if sentiment.polarity < 0 else \"neutral\"}\n",
    "\n",
    "    return json.dumps(result)\n",
    "\n",
    "if __name__ == \"__main__\":\n",
    "    main()"
   ]
  }
 ],
 "metadata": {
  "kernelspec": {
   "display_name": "mcp-sentiment (3.13.7)",
   "language": "python",
   "name": "python3"
  },
  "language_info": {
   "codemirror_mode": {
    "name": "ipython",
    "version": 3
   },
   "file_extension": ".py",
   "mimetype": "text/x-python",
   "name": "python",
   "nbconvert_exporter": "python",
   "pygments_lexer": "ipython3",
   "version": "3.13.7"
  }
 },
 "nbformat": 4,
 "nbformat_minor": 5
}
